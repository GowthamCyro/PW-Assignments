{
 "cells": [
  {
   "cell_type": "markdown",
   "id": "7958e20d-9ece-4991-8a03-a27dc37163c6",
   "metadata": {},
   "source": [
    "Assignment"
   ]
  },
  {
   "cell_type": "code",
   "execution_count": 6,
   "id": "939b60e0-556a-41c0-a0c7-e7803877d9f5",
   "metadata": {},
   "outputs": [],
   "source": [
    "'''Q1. Create one variable containing following type of data:\n",
    "(i) string\n",
    "(ii) list\n",
    "(iii) float\n",
    "(iv) tuple'''\n",
    "var1 = \"Hello PW\"\n",
    "var2 = [1,3,4,5,6]\n",
    "var3 = 3.4\n",
    "var4 = (1,2,3,4)"
   ]
  },
  {
   "cell_type": "code",
   "execution_count": 11,
   "id": "2c83d7b5-c576-40f8-ad35-dfe8dabe7ca9",
   "metadata": {},
   "outputs": [
    {
     "name": "stdout",
     "output_type": "stream",
     "text": [
      "<class 'str'>\n",
      "<class 'str'>\n",
      "<class 'list'>\n",
      "<class 'int'>\n"
     ]
    }
   ],
   "source": [
    "'''Q2. Given are some following variables containing data:\n",
    "(i) var1 = ‘ ‘\n",
    "(ii) var2 = ‘[ DS , ML , Python]’\n",
    "(iii) var3 = [ ‘DS’ , ’ML’ , ‘Python’ ]\n",
    "(iv) var4 = 1.\n",
    "What will be the data type of the above given variable.'''\n",
    "var1 = ' '\n",
    "print(type(var1))\n",
    "var2 = '[ DS , ML , Python]'\n",
    "print(type(var2))\n",
    "var3 = [ 'DS' , 'ML' , 'Python' ]\n",
    "print(type(var3))\n",
    "var4 = 1\n",
    "print(type(var4))"
   ]
  },
  {
   "cell_type": "code",
   "execution_count": 13,
   "id": "11348436-23ca-4ebb-bbd0-23ae8fbe20be",
   "metadata": {},
   "outputs": [
    {
     "name": "stdout",
     "output_type": "stream",
     "text": [
      "Division(/): 2.5\n",
      "Remainder(%): 1\n",
      "Floor Division(//): 2\n",
      "PowerOf(**): 25\n"
     ]
    }
   ],
   "source": [
    "'''Q3. Explain the use of the following operators using an example:\n",
    "(i) /\n",
    "(ii) %\n",
    "(iii) //\n",
    "(iv) ** '''\n",
    "a = 2\n",
    "b = 5\n",
    "c = b/a\n",
    "d = b%a\n",
    "e = b // a\n",
    "f = b ** a\n",
    "print(\"Division(/):\",c)\n",
    "print(\"Remainder(%):\",d)\n",
    "print(\"Floor Division(//):\",e)\n",
    "print(\"PowerOf(**):\",f)"
   ]
  },
  {
   "cell_type": "code",
   "execution_count": 14,
   "id": "e364c844-f763-4a58-8159-0af5ee28d1ad",
   "metadata": {},
   "outputs": [
    {
     "name": "stdout",
     "output_type": "stream",
     "text": [
      "1 <class 'int'>\n",
      "2 <class 'int'>\n",
      "3 <class 'int'>\n",
      "4 <class 'int'>\n",
      "5 <class 'int'>\n",
      "True <class 'bool'>\n",
      "False <class 'bool'>\n",
      "pw <class 'str'>\n",
      "[1, 2, 3] <class 'list'>\n",
      "3.4 <class 'float'>\n"
     ]
    }
   ],
   "source": [
    "'''Q4. Create a list of length 10 of your choice containing multiple types of data. Using for loop print the\n",
    "element and its data type.'''\n",
    "li = [1,2,3,4,5,True,False,\"pw\",[1,2,3],3.4]\n",
    "for i in li:\n",
    "    print(i,type(i))"
   ]
  },
  {
   "cell_type": "code",
   "execution_count": 27,
   "id": "c1446fcd-236e-4ec0-ad49-21561395d7b7",
   "metadata": {},
   "outputs": [
    {
     "name": "stdin",
     "output_type": "stream",
     "text": [
      "Enter Number1 8\n",
      "Enter Number2 2\n"
     ]
    },
    {
     "name": "stdout",
     "output_type": "stream",
     "text": [
      "Number A is divisible by B 3 times\n"
     ]
    }
   ],
   "source": [
    "'''Q5. Using a while loop, verify if the number A is purely divisible by number B and if so then how many\n",
    "times it can be divisible.'''\n",
    "a = int(input(\"Enter Number1\"))\n",
    "b = int(input(\"Enter Number2\"))\n",
    "count = 0\n",
    "while a%b==0:\n",
    "    a = a/b\n",
    "    count = count + 1\n",
    "if count > 0:\n",
    "    print(f\"Number A is divisible by B\",count,\"times\")\n",
    "else:\n",
    "    print(\"Number A is not divisible by B.\")\n",
    "    "
   ]
  },
  {
   "cell_type": "code",
   "execution_count": 31,
   "id": "b7d36d35-e3de-4c05-9d65-6f3f4b72b2fa",
   "metadata": {},
   "outputs": [
    {
     "name": "stdout",
     "output_type": "stream",
     "text": [
      "[0, 1, 2, 3, 4, 5, 6, 7, 8, 9, 10, 11, 12, 13, 14, 15, 16, 17, 18, 19, 20, 21, 22, 23, 24]\n",
      "0  is Divisible by 3\n",
      "1  is not Divisible by 3\n",
      "2  is not Divisible by 3\n",
      "3  is Divisible by 3\n",
      "4  is not Divisible by 3\n",
      "5  is not Divisible by 3\n",
      "6  is Divisible by 3\n",
      "7  is not Divisible by 3\n",
      "8  is not Divisible by 3\n",
      "9  is Divisible by 3\n",
      "10  is not Divisible by 3\n",
      "11  is not Divisible by 3\n",
      "12  is Divisible by 3\n",
      "13  is not Divisible by 3\n",
      "14  is not Divisible by 3\n",
      "15  is Divisible by 3\n",
      "16  is not Divisible by 3\n",
      "17  is not Divisible by 3\n",
      "18  is Divisible by 3\n",
      "19  is not Divisible by 3\n",
      "20  is not Divisible by 3\n",
      "21  is Divisible by 3\n",
      "22  is not Divisible by 3\n",
      "23  is not Divisible by 3\n",
      "24  is Divisible by 3\n"
     ]
    }
   ],
   "source": [
    "'''Q6. Create a list containing 25 int type data. Using for loop and if-else condition print if the element is\n",
    "divisible by 3 or not.'''\n",
    "li = list(range(25))\n",
    "print(li)\n",
    "for i in li:\n",
    "    if(i%3 == 0):\n",
    "        print(i,\" is Divisible by 3\")\n",
    "    else:\n",
    "        print(i,\" is not Divisible by 3\")"
   ]
  },
  {
   "cell_type": "code",
   "execution_count": 33,
   "id": "7fb61a36-f33e-4f51-828b-0925d6b579bf",
   "metadata": {},
   "outputs": [
    {
     "name": "stdout",
     "output_type": "stream",
     "text": [
      "Mutable Object\n",
      "[1, 2, 3, 4, 5, 7]\n",
      "After Modification\n",
      "[1, 2, 3, 4, 5, 6]\n",
      "Immutable\n",
      "Pwskills\n",
      "When we try to modify it generates error\n"
     ]
    },
    {
     "ename": "TypeError",
     "evalue": "'str' object does not support item assignment",
     "output_type": "error",
     "traceback": [
      "\u001b[0;31m---------------------------------------------------------------------------\u001b[0m",
      "\u001b[0;31mTypeError\u001b[0m                                 Traceback (most recent call last)",
      "Cell \u001b[0;32mIn[33], line 15\u001b[0m\n\u001b[1;32m     13\u001b[0m \u001b[38;5;28mprint\u001b[39m(s)\n\u001b[1;32m     14\u001b[0m \u001b[38;5;28mprint\u001b[39m(\u001b[38;5;124m\"\u001b[39m\u001b[38;5;124mWhen we try to modify it generates error\u001b[39m\u001b[38;5;124m\"\u001b[39m)\n\u001b[0;32m---> 15\u001b[0m \u001b[43ms\u001b[49m\u001b[43m[\u001b[49m\u001b[38;5;241;43m7\u001b[39;49m\u001b[43m]\u001b[49m \u001b[38;5;241m=\u001b[39m a\n\u001b[1;32m     16\u001b[0m ptint(s)\n",
      "\u001b[0;31mTypeError\u001b[0m: 'str' object does not support item assignment"
     ]
    }
   ],
   "source": [
    "'''Q7. What do you understand about mutable and immutable data types? Give examples for both showing\n",
    "this property.'''\n",
    "# Mutable Objects are the types which accept the changes in their data Ex: List\n",
    "# Immutable Objects are the types which do not accept changes in their data Ex: String\n",
    "li = [1,2,3,4,5,7]\n",
    "s = \"Pwskills\"\n",
    "print(\"Mutable Object\")\n",
    "print(li)\n",
    "print(\"After Modification\")\n",
    "li[5] = 6\n",
    "print(li)\n",
    "print(\"Immutable\")\n",
    "print(s)\n",
    "print(\"When we try to modify it generates error\")\n",
    "s[7] = a\n",
    "ptint(s)"
   ]
  }
 ],
 "metadata": {
  "kernelspec": {
   "display_name": "Python 3 (ipykernel)",
   "language": "python",
   "name": "python3"
  },
  "language_info": {
   "codemirror_mode": {
    "name": "ipython",
    "version": 3
   },
   "file_extension": ".py",
   "mimetype": "text/x-python",
   "name": "python",
   "nbconvert_exporter": "python",
   "pygments_lexer": "ipython3",
   "version": "3.10.8"
  }
 },
 "nbformat": 4,
 "nbformat_minor": 5
}
