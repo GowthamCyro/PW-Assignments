{
 "cells": [
  {
   "cell_type": "markdown",
   "id": "cdc8f23a-c42a-47b1-a51d-594f447eb32d",
   "metadata": {},
   "source": [
    "Q1. What is a database? Differentiate between SQL and NoSQL databases."
   ]
  },
  {
   "cell_type": "markdown",
   "id": "322e8d1e-1c1a-4ace-90c4-c6fffe6c597a",
   "metadata": {},
   "source": [
    "A database is a structured collection of data that is organized and stored in a computer system. It provides an efficient way to manage, manipulate, and retrieve data.\n",
    "\n",
    "SQL stands for Structured Query Language\n",
    "NOSQL stands for Not Only Structured Query Language\n",
    "\n",
    "SQL databases are relational databases that store structered data in tables with predefined schemas. \n",
    "\n",
    "NoSQL databases, on the other hand, are non-relational databases that provide a flexible schema and allow for storing and retrieving unstructured and semi-structured data"
   ]
  },
  {
   "cell_type": "markdown",
   "id": "bf27027a-e2de-46c9-92af-2fefddddd69f",
   "metadata": {},
   "source": [
    "Q2. What is DDL? Explain why CREATE, DROP, ALTER, and TRUNCATE are used with an example."
   ]
  },
  {
   "cell_type": "markdown",
   "id": "3ad4f0e3-0c08-4d38-b207-688c82b2293a",
   "metadata": {},
   "source": [
    "DDL stands for Data Definition Language. It is a set of SQL commands used to define and manage the structure of the database objects, such as tables, indexes, and views.\n",
    "\n",
    "CREATE: The CREATE command is used to create a new database object, such as a table.\n",
    "\n",
    "DROP: The DROP command is used to delete a database object, such as a table.\n",
    "\n",
    "ALTER: The ALTER command is used to modify the structure of an existing database object. It allows adding, modifying, or deleting columns from a table, among other operations.\n",
    "\n",
    "TRUNCATE: The TRUNCATE command is used to remove all rows from a table, effectively resetting its data."
   ]
  },
  {
   "cell_type": "code",
   "execution_count": null,
   "id": "0632ff8f-4384-4292-90a0-3852eb0e6ed4",
   "metadata": {},
   "outputs": [],
   "source": [
    "CREATE TABLE employees (\n",
    "    id INT,\n",
    "    name VARCHAR(100),\n",
    "    age INT\n",
    ");"
   ]
  },
  {
   "cell_type": "code",
   "execution_count": null,
   "id": "656ab217-18ab-413a-ad31-6238f0d9b161",
   "metadata": {},
   "outputs": [],
   "source": [
    "DROP TABLE employees;"
   ]
  },
  {
   "cell_type": "code",
   "execution_count": null,
   "id": "f4a760ac-fbe4-4b80-9ef4-a078167cab65",
   "metadata": {},
   "outputs": [],
   "source": [
    "ALTER TABLE employees\n",
    "ADD COLUMN salary DECIMAL(10, 2);"
   ]
  },
  {
   "cell_type": "code",
   "execution_count": null,
   "id": "d178feb5-6cf9-4bfc-ab32-0550520a7bf3",
   "metadata": {},
   "outputs": [],
   "source": [
    "TRUNCATE TABLE employees;"
   ]
  },
  {
   "cell_type": "markdown",
   "id": "fffc623b-059c-4afc-83ea-cd6148bae7dc",
   "metadata": {},
   "source": [
    "Q3. What is DML? Explain INSERT, UPDATE, and DELETE with an example."
   ]
  },
  {
   "cell_type": "markdown",
   "id": "8f635f45-f782-4cbe-ae74-681b330ea44d",
   "metadata": {},
   "source": [
    "DML stands for Data Manipulation Language. It is a set of SQL commands used to manage the data within the database. The following are some commonly used DML commands:\n",
    "\n",
    "INSERT: The INSERT command is used to add new rows of data into a table.\n",
    "\n",
    "UPDATE: The UPDATE command is used to modify existing data in a table.\n",
    "\n",
    "DELETE: The DELETE command is used to remove rows from a table."
   ]
  },
  {
   "cell_type": "code",
   "execution_count": null,
   "id": "fdae8c52-dc7d-452c-aa49-fa69aee327f4",
   "metadata": {},
   "outputs": [],
   "source": [
    "INSERT INTO employees (id, name, age)\n",
    "VALUES (1, 'John Doe', 30);"
   ]
  },
  {
   "cell_type": "code",
   "execution_count": null,
   "id": "9b6e6a32-fc08-4681-9953-31c5118c02fc",
   "metadata": {},
   "outputs": [],
   "source": [
    "UPDATE employees\n",
    "SET age = 31\n",
    "WHERE id = 1;"
   ]
  },
  {
   "cell_type": "code",
   "execution_count": null,
   "id": "a2cc650a-06e8-498b-8f60-309fdc5dfe6c",
   "metadata": {},
   "outputs": [],
   "source": [
    "DELETE FROM employees\n",
    "WHERE id = 1;"
   ]
  },
  {
   "cell_type": "markdown",
   "id": "9b5e2ff6-1eb1-4650-b44f-bb9787e85797",
   "metadata": {},
   "source": [
    "Q4. What is DQL? Explain SELECT with an example."
   ]
  },
  {
   "cell_type": "markdown",
   "id": "cca2f9eb-22eb-4ee2-9ca1-d23ee9ed6fec",
   "metadata": {},
   "source": [
    "DQL stands for Data Query Language. It is primarily focused on retrieving and manipulating data stored in a database. The most commonly used DQL command is SELECT, which is used to query and retrieve data from one or more tables. "
   ]
  },
  {
   "cell_type": "code",
   "execution_count": null,
   "id": "3fd7a1c7-5e6b-4e0e-b3ee-0ee510982182",
   "metadata": {},
   "outputs": [],
   "source": [
    "Select *from employees;"
   ]
  },
  {
   "cell_type": "markdown",
   "id": "455a1057-48e7-4e31-afa3-a263650617a2",
   "metadata": {},
   "source": [
    "Q5. Explain Primary Key and Foreign Key."
   ]
  },
  {
   "cell_type": "markdown",
   "id": "b85efe02-34d1-414d-9d34-d3fa9354c702",
   "metadata": {},
   "source": [
    "Primary Key: A primary key is a column or a set of columns that uniquely identifies each row in a table. It enforces entity integrity and ensures that each row has a unique identifier. A primary key constraint is applied to the column(s) to enforce this uniqueness. Typically, primary keys are used to identify and retrieve individual records efficiently. For example, in a table representing employees, an \"employee_id\" column can be designated as the primary key.\n",
    "\n",
    "Foreign Key: A foreign key is a column or a set of columns in a table that refers to the primary key of another table. It establishes a relationship between two tables based on the values in those columns. Foreign keys enable referential integrity and maintain data consistency between related tables. For example, if there is an \"employee_id\" column in an \"orders\" table that references the \"employee_id\" column in the \"employees\" table, it creates a foreign key relationship. This relationship ensures that an order can only be associated with an existing employee."
   ]
  },
  {
   "cell_type": "markdown",
   "id": "585a1618-0fc3-4a10-960d-f871e336e995",
   "metadata": {},
   "source": [
    "Q6. Write a python code to connect MySQL to python. Explain the cursor() and execute() method."
   ]
  },
  {
   "cell_type": "code",
   "execution_count": null,
   "id": "98e458b4-2d70-48ea-8cf7-04d752d0d26d",
   "metadata": {},
   "outputs": [],
   "source": [
    "import mysql.connector\n",
    "\n",
    "mydb = mysql.connector.connect(\n",
    "        host='localhost',\n",
    "        user='username',\n",
    "        password='password'\n",
    ")\n",
    "\n",
    "cursor = mydb.cursor()\n",
    "cursor.execute(\"Select *from tablename\")\n",
    "cursor.close()\n",
    "mydb.close()"
   ]
  },
  {
   "cell_type": "markdown",
   "id": "522a8e03-2c5e-45e2-8e90-0f9f77f8aad8",
   "metadata": {},
   "source": [
    "The cursor() method is called on the connection object to create a cursor. The cursor is used to execute SQL queries and fetch the results.\n",
    "The execute() method of the cursor is used to execute an SQL query. In the example, a SELECT query is executed to retrieve all rows from the table."
   ]
  },
  {
   "cell_type": "markdown",
   "id": "6e5b6b9f-1b21-45dc-8501-6649a809f316",
   "metadata": {},
   "source": [
    "Q7. Give the order of execution of SQL clauses in an SQL query."
   ]
  },
  {
   "cell_type": "markdown",
   "id": "3649649c-f224-4f67-abbd-82e683c22a84",
   "metadata": {},
   "source": [
    "The order of execution of SQL clauses in an SQL query is as follows:\n",
    "\n",
    "FROM: Specifies the table(s) from which to retrieve the data.\n",
    "WHERE: Filters the rows based on specified conditions.\n",
    "GROUP BY: Groups the rows based on specified columns.\n",
    "HAVING: Filters the groups based on specified conditions.\n",
    "SELECT: Specifies the columns to retrieve from the result set.\n",
    "DISTINCT: Filters out duplicate rows from the result set.\n",
    "ORDER BY: Sorts the result set based on specified columns.\n",
    "LIMIT/OFFSET: Limits the number of rows returned or specifies a starting point for the result set.\n",
    "UNION: Combines the result sets of multiple SELECT statements.\n",
    "INSERT/UPDATE/DELETE: Modifies the data in the database.\n",
    "COMMIT/ROLLBACK: Confirms or rolls back the transaction.\n",
    "It's important to note that not all clauses are required in every SQL query, and the specific order may vary depending on the query's purpose and the clauses used."
   ]
  }
 ],
 "metadata": {
  "kernelspec": {
   "display_name": "Python 3 (ipykernel)",
   "language": "python",
   "name": "python3"
  },
  "language_info": {
   "codemirror_mode": {
    "name": "ipython",
    "version": 3
   },
   "file_extension": ".py",
   "mimetype": "text/x-python",
   "name": "python",
   "nbconvert_exporter": "python",
   "pygments_lexer": "ipython3",
   "version": "3.10.8"
  }
 },
 "nbformat": 4,
 "nbformat_minor": 5
}
