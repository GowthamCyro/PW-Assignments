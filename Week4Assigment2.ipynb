{
 "cells": [
  {
   "cell_type": "markdown",
   "id": "8af13a82-4af3-44ce-9541-5c7ed99c7b4d",
   "metadata": {},
   "source": [
    "Q1, Create a vehicle class with an init method having instance variables as name_of_vehicle, max_speed\n",
    "and average_of_vehicle."
   ]
  },
  {
   "cell_type": "code",
   "execution_count": 1,
   "id": "820748d0-5f2e-454f-bf24-5e4695e60269",
   "metadata": {},
   "outputs": [],
   "source": [
    "class vehicle:\n",
    "    def __init__(self,name_of_vehicle,max_speed,average_of_vehicle):\n",
    "        self.name = name_of_vehicle\n",
    "        self.speed = max_speed\n",
    "        self.milage = average_of_vehicle"
   ]
  },
  {
   "cell_type": "markdown",
   "id": "3b0f0ddb-711a-4d10-a4fa-6b27a3047991",
   "metadata": {},
   "source": [
    "Q2. Create a child class car from the vehicle class created in Que 1, which will inherit the vehicle class.\n",
    "Create a method named seating_capacity which takes capacity as an argument and returns the name of\n",
    "the vehicle and its seating capacity."
   ]
  },
  {
   "cell_type": "code",
   "execution_count": 12,
   "id": "1e74ca61-5ee5-4b71-93db-c0069c485807",
   "metadata": {},
   "outputs": [],
   "source": [
    "class car(vehicle):\n",
    "    def seating_capacity(self,capacity):\n",
    "        print(\"Name of car\",self.name)\n",
    "        print(\"Seating Capacity of car is \",capacity)"
   ]
  },
  {
   "cell_type": "code",
   "execution_count": 13,
   "id": "42831e67-ad83-498f-8184-960b3c69431b",
   "metadata": {},
   "outputs": [],
   "source": [
    "obj = car(\"GTR\",410,200)"
   ]
  },
  {
   "cell_type": "code",
   "execution_count": 14,
   "id": "f4975c58-2ce1-44b6-90fd-13b4a48a3335",
   "metadata": {},
   "outputs": [
    {
     "name": "stdout",
     "output_type": "stream",
     "text": [
      "Name of car GTR\n",
      "Seating Capacity of car is  4\n"
     ]
    }
   ],
   "source": [
    "obj.seating_capacity(4)"
   ]
  },
  {
   "cell_type": "markdown",
   "id": "05d59dbe-f769-4d7e-bd1d-33f2d38f0313",
   "metadata": {},
   "source": [
    "Q3. What is multiple inheritance? Write a python code to demonstrate multiple inheritance."
   ]
  },
  {
   "cell_type": "markdown",
   "id": "f377d31b-7c6e-477c-9e6a-b3b1b8eaa4db",
   "metadata": {},
   "source": [
    "Ans) When a child class acquires properties from 2 or more parent classes then it is said multiple inheritance."
   ]
  },
  {
   "cell_type": "code",
   "execution_count": 15,
   "id": "31e8d491-89c6-42fd-ac1e-ae56d6b73760",
   "metadata": {},
   "outputs": [],
   "source": [
    "class A:  \n",
    "    def car(self):\n",
    "        print(\"This is a veichle which runs on 4 wheels\")\n",
    "class B:  \n",
    "    def GTR(self):\n",
    "        print(\"It is one of the costliest cars in India\")  \n",
    "class C(A,B):\n",
    "    def Colour(self):\n",
    "        print(\"It is a colour combination of Black and White with a good animations on it\")"
   ]
  },
  {
   "cell_type": "code",
   "execution_count": 16,
   "id": "6f05103a-b814-49b4-8f0e-4e6c2050419f",
   "metadata": {},
   "outputs": [],
   "source": [
    "obj = C()"
   ]
  },
  {
   "cell_type": "code",
   "execution_count": 17,
   "id": "c64dd838-a9c3-4fa6-b1b6-2a0566e74f9c",
   "metadata": {},
   "outputs": [
    {
     "name": "stdout",
     "output_type": "stream",
     "text": [
      "This is a veichle which runs on 4 wheels\n",
      "It is one of the costliest cars in India\n",
      "It is a colour combination of Black and White with a good animations on it\n"
     ]
    }
   ],
   "source": [
    "obj.car()\n",
    "obj.GTR()\n",
    "obj.Colour()"
   ]
  },
  {
   "cell_type": "markdown",
   "id": "e0b7c727-c68c-4d2e-ba57-a4605c50afb4",
   "metadata": {},
   "source": [
    "Q4. What are getter and setter in python? Create a class and create a getter and a setter method in this\n",
    "class."
   ]
  },
  {
   "cell_type": "markdown",
   "id": "f716a5c1-a752-4fcc-bd38-1f9dbb47cb22",
   "metadata": {},
   "source": [
    "Ans) When the access specifiers of the variables in a class is given private then in order that the outsiders wants to access those variables we can use setter and getter method using the property decorator"
   ]
  },
  {
   "cell_type": "code",
   "execution_count": 26,
   "id": "fc9826f9-b18d-411d-bd33-c67d1db4865b",
   "metadata": {},
   "outputs": [],
   "source": [
    "class pwskills:\n",
    "    def __init__(self,course_name,course_price):\n",
    "        self.__price = course_price\n",
    "        self.name = course_name \n",
    "    \n",
    "    @property\n",
    "    def course_price_access(self):\n",
    "        pass\n",
    "    \n",
    "    @course_price_access.getter\n",
    "    def get(self):\n",
    "        return self.__price\n",
    "    \n",
    "    @course_price_access.setter\n",
    "    def set(self,price):\n",
    "        self.__price = price"
   ]
  },
  {
   "cell_type": "code",
   "execution_count": 28,
   "id": "fc641173-ff23-434b-861b-d7000110e76e",
   "metadata": {},
   "outputs": [],
   "source": [
    "pw = pwskills(\"DSM\",3500)"
   ]
  },
  {
   "cell_type": "code",
   "execution_count": 30,
   "id": "809c7c81-cd26-4793-b009-7971d94d939c",
   "metadata": {},
   "outputs": [
    {
     "data": {
      "text/plain": [
       "3500"
      ]
     },
     "execution_count": 30,
     "metadata": {},
     "output_type": "execute_result"
    }
   ],
   "source": [
    "pw.get"
   ]
  },
  {
   "cell_type": "code",
   "execution_count": 31,
   "id": "84df6b06-debb-43bc-a39f-3038d6f98a5b",
   "metadata": {},
   "outputs": [],
   "source": [
    "pw.set = 4000"
   ]
  },
  {
   "cell_type": "code",
   "execution_count": 32,
   "id": "a9ea3994-d4d2-4c56-91be-a0c26a70fc9a",
   "metadata": {},
   "outputs": [
    {
     "data": {
      "text/plain": [
       "4000"
      ]
     },
     "execution_count": 32,
     "metadata": {},
     "output_type": "execute_result"
    }
   ],
   "source": [
    "pw.get"
   ]
  },
  {
   "cell_type": "markdown",
   "id": "b86bd3d2-89b9-4da3-baff-4df39b6604ae",
   "metadata": {},
   "source": [
    "Q5.What is method overriding in python? Write a python code to demonstrate method overriding."
   ]
  },
  {
   "cell_type": "markdown",
   "id": "79a1e1a5-ffef-4f2e-8328-8812c55c183d",
   "metadata": {},
   "source": [
    "When a method in a subclass has the same name, same parameters or signature and same return type(or sub-type) as a method in its super-class, then the method in the subclass is said to override the method in the super-class."
   ]
  },
  {
   "cell_type": "code",
   "execution_count": 33,
   "id": "a992627a-1c27-44ce-82eb-76ce3188cb40",
   "metadata": {},
   "outputs": [],
   "source": [
    "class A:  #parent class\n",
    "    def level(self):\n",
    "        print(\"This is the parent class\")\n",
    "class B(A):  #child class\n",
    "    def level(self):\n",
    "        print(\"This is the child class\")  "
   ]
  },
  {
   "cell_type": "code",
   "execution_count": 35,
   "id": "30a223c8-6545-4c8e-9de4-3fb8c213711d",
   "metadata": {},
   "outputs": [],
   "source": [
    "obj = B()"
   ]
  },
  {
   "cell_type": "code",
   "execution_count": 37,
   "id": "adf83da6-3387-4d94-810b-1584c651dd89",
   "metadata": {},
   "outputs": [
    {
     "name": "stdout",
     "output_type": "stream",
     "text": [
      "This is the child class\n"
     ]
    }
   ],
   "source": [
    "obj.level() #Here both parent class and child class has same functions named \"level\" and when we try to call then the child class function overrides the parent class"
   ]
  }
 ],
 "metadata": {
  "kernelspec": {
   "display_name": "Python 3 (ipykernel)",
   "language": "python",
   "name": "python3"
  },
  "language_info": {
   "codemirror_mode": {
    "name": "ipython",
    "version": 3
   },
   "file_extension": ".py",
   "mimetype": "text/x-python",
   "name": "python",
   "nbconvert_exporter": "python",
   "pygments_lexer": "ipython3",
   "version": "3.10.8"
  }
 },
 "nbformat": 4,
 "nbformat_minor": 5
}
