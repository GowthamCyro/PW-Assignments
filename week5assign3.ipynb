{
 "cells": [
  {
   "cell_type": "markdown",
   "id": "153c0a26-b7cd-451b-bf60-32e8eca7f3d4",
   "metadata": {},
   "source": [
    "1). What is multithreading in python? Why is it used? Name the module used to handle threads in python\n",
    "\n"
   ]
  },
  {
   "cell_type": "markdown",
   "id": "47bb6753-0201-4d7e-a8b3-91c4bf328f84",
   "metadata": {},
   "source": [
    "Multithreading in Python refers to the ability of a program to execute multiple threads concurrently. A thread is a separate flow of execution within a program. Multithreading allows different parts of a program to run concurrently, enabling parallelism and efficient utilization of system resources. In Python, multithreading is used to achieve concurrent execution and improve the performance of certain tasks.\n",
    "\n",
    "The module used to handle threads in Python is called \"threading\". It provides a high-level interface for creating and managing threads."
   ]
  },
  {
   "cell_type": "code",
   "execution_count": null,
   "id": "1c2b95fc-e09d-4065-b4f6-2a55b3a517d8",
   "metadata": {},
   "outputs": [],
   "source": [
    "2. Why threading module used? Write the use of the following functions\n",
    "( activeCount\n",
    " currentThread\n",
    " enumerate)\n"
   ]
  },
  {
   "cell_type": "markdown",
   "id": "8d37d9a9-0535-46f0-b8ea-b99532b103dc",
   "metadata": {},
   "source": [
    "The \"threading\" module in Python is used for thread management. Here are the uses of the following functions:\n",
    "\n",
    "activeCount(): Returns the number of Thread objects currently alive.\n",
    "\n",
    "currentThread(): Returns the current Thread object corresponding to the caller's thread of control.\n",
    "\n",
    "enumerate(): Returns a list of all Thread objects currently alive."
   ]
  },
  {
   "cell_type": "code",
   "execution_count": null,
   "id": "e1836cce-4da6-444a-b7c5-ca271164f58b",
   "metadata": {},
   "outputs": [],
   "source": [
    "3. Explain the following functions\n",
    "( run()\n",
    " start()\n",
    " join()\n",
    " isAlive())\n"
   ]
  },
  {
   "cell_type": "markdown",
   "id": "54a48dfb-6bb0-47bd-965f-3d7e28b9e600",
   "metadata": {},
   "source": [
    "run(): Defines the code to be executed in a thread. It is usually overridden in a subclass.\n",
    "start(): Starts the thread's activity by calling the run() method.\n",
    "join(): Waits for the thread to complete its execution.\n",
    "isAlive(): Returns whether the thread is currently alive or not."
   ]
  },
  {
   "cell_type": "markdown",
   "id": "227aac1c-c9c1-4432-979b-ec001c5a134a",
   "metadata": {},
   "source": [
    "4. Write a python program to create two threads. Thread one must print the list of squares and thread\n",
    "two must print the list of cubes"
   ]
  },
  {
   "cell_type": "code",
   "execution_count": 4,
   "id": "52dfea1e-0e2f-462a-b2d3-e1a2e0d5666d",
   "metadata": {},
   "outputs": [],
   "source": [
    "import threading"
   ]
  },
  {
   "cell_type": "code",
   "execution_count": 12,
   "id": "a5d10f51-dc56-4fdf-a624-44acf18b77a7",
   "metadata": {},
   "outputs": [],
   "source": [
    "def square(n):\n",
    "    print(n**2)\n",
    "def cube(n):\n",
    "    print(n**3)\n",
    "thread1 = [threading.Thread(target=square,args=(i,)) for i in [1,2,3,5,6]]\n",
    "thread2 = [threading.Thread(target=cube,args=(i,)) for i in [1,2,4,5,6]]"
   ]
  },
  {
   "cell_type": "code",
   "execution_count": 13,
   "id": "1f31ec0f-d290-4f0a-9cee-58444c6a2a4f",
   "metadata": {},
   "outputs": [
    {
     "name": "stdout",
     "output_type": "stream",
     "text": [
      "1\n",
      "4\n",
      "9\n",
      "25\n",
      "36\n"
     ]
    }
   ],
   "source": [
    "for t in thread1:\n",
    "    t.start()"
   ]
  },
  {
   "cell_type": "code",
   "execution_count": 14,
   "id": "8cdce618-1dfe-455f-93fa-ae5e0a1b34b3",
   "metadata": {},
   "outputs": [
    {
     "name": "stdout",
     "output_type": "stream",
     "text": [
      "1\n",
      "8\n",
      "64\n",
      "125\n",
      "216\n"
     ]
    }
   ],
   "source": [
    "for j in thread2:\n",
    "    j.start()"
   ]
  },
  {
   "cell_type": "markdown",
   "id": "3631f424-5bbf-402e-83de-cb4d21fbe45f",
   "metadata": {},
   "source": [
    "5. State advantages and disadvantages of multithreading"
   ]
  },
  {
   "cell_type": "markdown",
   "id": "47c62bfd-9245-477b-a0e3-a1e02dc316f4",
   "metadata": {},
   "source": [
    "Advantages of multithreading:\n",
    "Improved performance and efficiency by utilizing multiple cores or processors.\n",
    "Increased responsiveness and interactivity in applications.\n",
    "Better resource utilization and workload distribution.\n",
    "Simplified program structure and design for concurrent tasks.\n",
    "Disadvantages of multithreading:\n",
    "\n",
    "Increased complexity due to potential synchronization and concurrency issues.\n",
    "Difficulty in debugging and identifying race conditions or deadlocks.\n",
    "The need for careful synchronization mechanisms to avoid data corruption.\n",
    "Potential for performance degradation when excessive thread creation or contention occurs."
   ]
  },
  {
   "cell_type": "markdown",
   "id": "f8ac928a-4090-423f-a517-679ba32ba59b",
   "metadata": {},
   "source": [
    "6. Explain deadlocks and race conditions."
   ]
  },
  {
   "cell_type": "markdown",
   "id": "a1708332-2ca6-43c1-a559-bd840caeff4d",
   "metadata": {},
   "source": [
    "Deadlock: A deadlock occurs when two or more threads are waiting for each other to release resources, resulting in a situation where none of the threads can proceed. It typically happens when threads acquire locks on resources and don't release them properly. Deadlocks can lead to a system freeze or a permanent halt in program execution.\n",
    "\n",
    "Race condition: A race condition occurs when multiple threads access shared resources concurrently, and the final outcome depends on the relative timing of their execution. It leads to unpredictable and incorrect results. Race conditions often arise when threads perform non-atomic operations on shared data without proper synchronization, causing data corruption or inconsistent states."
   ]
  }
 ],
 "metadata": {
  "kernelspec": {
   "display_name": "Python 3 (ipykernel)",
   "language": "python",
   "name": "python3"
  },
  "language_info": {
   "codemirror_mode": {
    "name": "ipython",
    "version": 3
   },
   "file_extension": ".py",
   "mimetype": "text/x-python",
   "name": "python",
   "nbconvert_exporter": "python",
   "pygments_lexer": "ipython3",
   "version": "3.10.8"
  }
 },
 "nbformat": 4,
 "nbformat_minor": 5
}
