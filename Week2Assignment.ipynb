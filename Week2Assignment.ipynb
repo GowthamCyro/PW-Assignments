{
 "cells": [
  {
   "cell_type": "markdown",
   "id": "7afd273b-4ba9-41c6-b3f9-d90640bfc173",
   "metadata": {},
   "source": [
    "Q1. How do you comment code in Python? What are the different types of comments?"
   ]
  },
  {
   "cell_type": "markdown",
   "id": "a79dec38-ec96-4788-9966-71c6ba4c15bd",
   "metadata": {},
   "source": [
    "Ans) \n",
    "There are 2 types of comments generally used:\n",
    "1) Single Line Comments : These are used comment a single line.It can done using the special character \"#\"\n",
    "Ex : #Welcome To Python by PW Skills\n",
    "2) Multiple line Comments : These are used comment multpile lines with a single declaration.Commenting will done using '''....''' or \"\"\"...\"\"\"\n",
    "Ex: ''' Welcome to python\n",
    "        By Pw Skills'''"
   ]
  },
  {
   "cell_type": "code",
   "execution_count": 4,
   "id": "3e24c205-82bb-4b06-95be-f37f9097f0c0",
   "metadata": {},
   "outputs": [],
   "source": [
    "x = \"Welcome to python\" #Initial declaration\n",
    "y = \"Multiline comments\"   \"\"\" Welcome to python \n",
    "                                by pw skills\"\"\""
   ]
  },
  {
   "cell_type": "markdown",
   "id": "e04fc5f4-0fda-477f-955c-eb52451a9710",
   "metadata": {},
   "source": [
    "Q2. What are variables in Python? How do you declare and assign values to variables?\n",
    "\n",
    "Ans) Variables in Python are used to store data values that can be accessed and manipulated throughout the program. Variables can hold different types of data, such as numbers, strings, lists, etc.\n",
    "Ex : x = 10  # Declaring variable x and assigning the value 10"
   ]
  },
  {
   "cell_type": "code",
   "execution_count": 5,
   "id": "17ec4985-4c44-419b-86cf-93316f45f86e",
   "metadata": {},
   "outputs": [
    {
     "data": {
      "text/plain": [
       "10"
      ]
     },
     "execution_count": 5,
     "metadata": {},
     "output_type": "execute_result"
    }
   ],
   "source": [
    "x = 10\n",
    "x"
   ]
  },
  {
   "cell_type": "markdown",
   "id": "0694986f-9301-4b39-b1dd-1fcee624a565",
   "metadata": {},
   "source": [
    "Q3. How do you convert one data type to another in Python?\n",
    "\n",
    "Ans) In Python, you can convert one data type to another using built-in functions or constructor functions specific to each data type. Here are some common methods for type conversion:\n",
    "\n",
    "Implicit type conversion (coercion): Python automatically performs implicit type conversion in certain situations when it can be safely done. For example, when you add an integer to a float, Python converts the integer to a float before performing the addition.\n",
    "\n",
    "Explicit type conversion (casting): You can explicitly convert data types using various built-in functions. Here are some examples:\n",
    "\n",
    "int(): Converts a value to an integer.\n",
    "float(): Converts a value to a float.\n",
    "str(): Converts a value to a string."
   ]
  },
  {
   "cell_type": "code",
   "execution_count": 7,
   "id": "e83b4a99-8b9f-46c4-8ddd-6b04306294b5",
   "metadata": {},
   "outputs": [
    {
     "data": {
      "text/plain": [
       "2.0"
      ]
     },
     "execution_count": 7,
     "metadata": {},
     "output_type": "execute_result"
    }
   ],
   "source": [
    "#Implicit \n",
    "x = 1 + 1.0\n",
    "x # here 1 is converted into 1.0 implicitly by python"
   ]
  },
  {
   "cell_type": "code",
   "execution_count": 12,
   "id": "9acd8a27-19c2-4015-af9c-9fda9cd61120",
   "metadata": {},
   "outputs": [
    {
     "name": "stdout",
     "output_type": "stream",
     "text": [
      "<class 'float'>\n",
      "<class 'int'>\n"
     ]
    }
   ],
   "source": [
    "#Explicit\n",
    "x = 7.68 \n",
    "print(type(x)) #float\n",
    "y = int(x)\n",
    "print(type(y)) #float converted into int"
   ]
  },
  {
   "cell_type": "markdown",
   "id": "c8629571-2cda-484c-a336-c60688767ab0",
   "metadata": {},
   "source": [
    "Q4. How do you write and execute a Python script from the command line?\n",
    "\n",
    "Ans) To write and execute a Python script from the command line, follow these steps:\n",
    "\n",
    "1.Create a new text file with a .py extension. For example, script.py.\n",
    "\n",
    "2.Open the file in a text editor and write your Python code in it. For example:\n",
    "print(\"Hello, World!\")\n",
    "\n",
    "3.Save the file.\n",
    "\n",
    "4.Open the command line or terminal.\n",
    "\n",
    "5.Navigate to the directory where you saved your Python script using the cd command.\n",
    "\n",
    "6.To execute the script, run the following command:\n",
    "python script.py\n",
    "\n",
    "7.Press Enter to execute the command. The output of your script will be displayed in the command line.\n",
    "\n",
    "Make sure you have Python installed on your system and added to your system's PATH environment variable to execute Python scripts from the command line."
   ]
  },
  {
   "cell_type": "markdown",
   "id": "fdca59c7-086b-4abd-9975-0f618ae0b158",
   "metadata": {},
   "source": [
    "Q5. Given a list my_list = [1, 2, 3, 4, 5], write the code to slice the list and obtain the sub-list [2, 3].\n",
    "Ans) "
   ]
  },
  {
   "cell_type": "code",
   "execution_count": 14,
   "id": "b09af0f6-af29-41f4-a643-65d72e23f617",
   "metadata": {},
   "outputs": [
    {
     "data": {
      "text/plain": [
       "[2, 3]"
      ]
     },
     "execution_count": 14,
     "metadata": {},
     "output_type": "execute_result"
    }
   ],
   "source": [
    "my_list = [1, 2, 3, 4, 5]\n",
    "sub_list = my_list[1:3]\n",
    "sub_list"
   ]
  },
  {
   "cell_type": "markdown",
   "id": "07f75cca-30e3-4198-85ed-72eb8c213639",
   "metadata": {},
   "source": [
    "Q6. What is a complex number in mathematics, and how is it represented in Python?\n",
    "\n",
    "Ans) In mathematics, a complex number is a number that consists of a real part and an imaginary part. It is written in the form a + ib, where a represents the real part, b represents the imaginary part, and i represents the imaginary unit sqrt(-1)\n",
    "\n",
    "In Python, complex numbers can be represented using the complex data type. The imaginary part is denoted using the suffix j or J. The general syntax to represent a complex number in Python is a + bj. Here are a few examples:"
   ]
  },
  {
   "cell_type": "code",
   "execution_count": 17,
   "id": "b2a1e567-7a23-48a2-a110-7ea5811f7d60",
   "metadata": {},
   "outputs": [
    {
     "name": "stdout",
     "output_type": "stream",
     "text": [
      "3.0\n",
      "2.0\n"
     ]
    }
   ],
   "source": [
    "z1 = 3 + 2j\n",
    "print(z1.real)\n",
    "print(z1.imag)"
   ]
  },
  {
   "cell_type": "markdown",
   "id": "e5c41e70-1788-47bc-b2c5-4213b0784d3b",
   "metadata": {},
   "source": [
    "Q7. What is the correct way to declare a variable named age and assign the value 25 to it? "
   ]
  },
  {
   "cell_type": "code",
   "execution_count": 18,
   "id": "c2aabffb-b34f-4a60-bfb1-105f3669b3b2",
   "metadata": {},
   "outputs": [],
   "source": [
    "age = 25"
   ]
  },
  {
   "cell_type": "markdown",
   "id": "65327f27-89a2-4db2-97c5-59ff312078f2",
   "metadata": {},
   "source": [
    "Q8. Declare a variable named price and assign the value 9.99 to it. What data type does this variable belong to?"
   ]
  },
  {
   "cell_type": "code",
   "execution_count": 19,
   "id": "15ae641b-1054-481d-aece-26d8f45f4e24",
   "metadata": {},
   "outputs": [
    {
     "data": {
      "text/plain": [
       "float"
      ]
     },
     "execution_count": 19,
     "metadata": {},
     "output_type": "execute_result"
    }
   ],
   "source": [
    "price = 9.99\n",
    "type(price)"
   ]
  },
  {
   "cell_type": "markdown",
   "id": "098f34ac-9b82-4496-a62f-04ae8fd4536d",
   "metadata": {},
   "source": [
    "Q9. Create a variable named name and assign your full name to it as a string. How would you print the\n",
    "value of this variable?"
   ]
  },
  {
   "cell_type": "code",
   "execution_count": 20,
   "id": "b1308378-b2f0-48ae-9ba1-2e53499cf5cf",
   "metadata": {},
   "outputs": [
    {
     "name": "stdout",
     "output_type": "stream",
     "text": [
      "GOWTHAM VARMA SAGI\n"
     ]
    }
   ],
   "source": [
    "name = \"GOWTHAM VARMA SAGI\"\n",
    "print(name)"
   ]
  },
  {
   "cell_type": "markdown",
   "id": "bff24768-1f61-4868-86d6-e861da24fdc2",
   "metadata": {},
   "source": [
    "Q10. Given the string \"Hello, World!\", extract the substring \"World\"."
   ]
  },
  {
   "cell_type": "code",
   "execution_count": 23,
   "id": "0198c5de-bb09-4f11-bc8d-2438839c67bb",
   "metadata": {},
   "outputs": [
    {
     "data": {
      "text/plain": [
       "'World'"
      ]
     },
     "execution_count": 23,
     "metadata": {},
     "output_type": "execute_result"
    }
   ],
   "source": [
    "string = \"Hello, World!\"\n",
    "string[7:12]"
   ]
  },
  {
   "cell_type": "markdown",
   "id": "433dade3-4863-4906-88ac-8870d9642f54",
   "metadata": {},
   "source": [
    "Q11. Create a variable named \"is_student\" and assign it a boolean value indicating whether you are currently a student or not."
   ]
  },
  {
   "cell_type": "code",
   "execution_count": 24,
   "id": "069451c0-259e-484b-a339-438a8bd93494",
   "metadata": {},
   "outputs": [
    {
     "name": "stdout",
     "output_type": "stream",
     "text": [
      "I am a student\n"
     ]
    }
   ],
   "source": [
    "is_student = True\n",
    "if(is_student):\n",
    "    print(\"I am a student\")"
   ]
  }
 ],
 "metadata": {
  "kernelspec": {
   "display_name": "Python 3 (ipykernel)",
   "language": "python",
   "name": "python3"
  },
  "language_info": {
   "codemirror_mode": {
    "name": "ipython",
    "version": 3
   },
   "file_extension": ".py",
   "mimetype": "text/x-python",
   "name": "python",
   "nbconvert_exporter": "python",
   "pygments_lexer": "ipython3",
   "version": "3.10.8"
  }
 },
 "nbformat": 4,
 "nbformat_minor": 5
}
