{
 "cells": [
  {
   "cell_type": "markdown",
   "id": "f1e3d37d-88b3-4ef4-9013-eadc6d7d4a60",
   "metadata": {},
   "source": [
    "Q1. Create a Pandas Series that contains the following data: 4, 8, 15, 16, 23, and 42. Then, print the series."
   ]
  },
  {
   "cell_type": "code",
   "execution_count": 1,
   "id": "5de379f9-967c-45a9-8108-d1470b4a23b4",
   "metadata": {},
   "outputs": [
    {
     "name": "stdout",
     "output_type": "stream",
     "text": [
      "0     4\n",
      "1     8\n",
      "2    15\n",
      "3    16\n",
      "4    23\n",
      "5    42\n",
      "dtype: int64\n"
     ]
    }
   ],
   "source": [
    "import pandas as pd\n",
    "\n",
    "data = [4, 8, 15, 16, 23, 42]\n",
    "series = pd.Series(data)\n",
    "print(series)"
   ]
  },
  {
   "cell_type": "markdown",
   "id": "187d0657-50cb-43dc-b701-8f84dc7700fe",
   "metadata": {},
   "source": [
    "Q2. Create a variable of list type containing 10 elements in it, and apply pandas.Series function on the\n",
    "variable print it."
   ]
  },
  {
   "cell_type": "code",
   "execution_count": 2,
   "id": "91012259-655c-4a79-9b70-f932c50d7582",
   "metadata": {},
   "outputs": [
    {
     "name": "stdout",
     "output_type": "stream",
     "text": [
      "0     1\n",
      "1     2\n",
      "2     3\n",
      "3     4\n",
      "4     5\n",
      "5     6\n",
      "6     7\n",
      "7     8\n",
      "8     9\n",
      "9    10\n",
      "dtype: int64\n"
     ]
    }
   ],
   "source": [
    "import pandas as pd\n",
    "\n",
    "data_list = [1, 2, 3, 4, 5, 6, 7, 8, 9, 10]\n",
    "series = pd.Series(data_list)\n",
    "print(series)\n"
   ]
  },
  {
   "cell_type": "markdown",
   "id": "d22301ea-dae0-479d-846c-4b69c6c2e06c",
   "metadata": {},
   "source": [
    "Q3. Create a Pandas DataFrame that contains the following data:"
   ]
  },
  {
   "cell_type": "code",
   "execution_count": 5,
   "id": "526c2716-d3fc-46b9-becf-2bcd6794432e",
   "metadata": {},
   "outputs": [
    {
     "name": "stdout",
     "output_type": "stream",
     "text": [
      "      Name  Age  Gender\n",
      "0    Alice   25  Female\n",
      "1      Bob   30    Male\n",
      "2  Charlie   27  Female\n"
     ]
    }
   ],
   "source": [
    "import pandas as pd\n",
    "\n",
    "data = {\n",
    "    'Name': ['Alice', 'Bob', 'Charlie'],\n",
    "    'Age': [25, 30, 27],\n",
    "    'Gender': ['Female', 'Male', 'Female']\n",
    "}\n",
    "\n",
    "df = pd.DataFrame(data)\n",
    "print(df)\n"
   ]
  },
  {
   "cell_type": "markdown",
   "id": "f31a7786-400e-491e-8ca5-eb937c0b468a",
   "metadata": {},
   "source": [
    "Q4. What is ‘DataFrame’ in pandas and how is it different from pandas.series? Explain with an example."
   ]
  },
  {
   "cell_type": "markdown",
   "id": "ca81bddc-7fc8-4336-99d4-9278ce918447",
   "metadata": {},
   "source": [
    "In pandas, a DataFrame is a 2-dimensional labeled data structure with columns of potentially different data types. It can be thought of as a table or spreadsheet with rows and columns. Each column in a DataFrame is a Series. A Series, on the other hand, is a one-dimensional labeled array capable of holding any data type.\n",
    "\n",
    "The main difference between a DataFrame and a Series is that a DataFrame can hold multiple columns, while a Series represents a single column of data."
   ]
  },
  {
   "cell_type": "code",
   "execution_count": 11,
   "id": "b80f4168-ae55-436b-ac6e-0bf9329ee3f9",
   "metadata": {},
   "outputs": [
    {
     "name": "stdout",
     "output_type": "stream",
     "text": [
      "0     4\n",
      "1     8\n",
      "2    15\n",
      "3    16\n",
      "4    23\n",
      "5    42\n",
      "Name: Numbers, dtype: int64\n",
      "   Numbers Alphabets\n",
      "0        4         A\n",
      "1        8         B\n",
      "2       15         C\n",
      "3       16         D\n",
      "4       23         E\n",
      "5       42         F\n"
     ]
    }
   ],
   "source": [
    "import pandas as pd\n",
    "\n",
    "series = pd.Series([4, 8, 15, 16, 23, 42], name='Numbers')\n",
    "print(series)\n",
    "\n",
    "data = {\n",
    "        'Numbers': [4, 8, 15, 16, 23, 42],\n",
    "        'Alphabets' : ['A','B','C','D','E','F']\n",
    "       }\n",
    "df = pd.DataFrame(data)\n",
    "print(df)\n"
   ]
  },
  {
   "cell_type": "markdown",
   "id": "6f10be80-82f9-46a9-b4c9-ab9d2ef26527",
   "metadata": {},
   "source": [
    "Q5. What are some common functions you can use to manipulate data in a Pandas DataFrame? Can\n",
    "you give an example of when you might use one of these functions?"
   ]
  },
  {
   "cell_type": "markdown",
   "id": "5457dde8-6c6c-4b80-a099-a18419a26250",
   "metadata": {},
   "source": [
    "Some common functions to manipulate data in a Pandas DataFrame include:\n",
    "\n",
    "head() - Returns the first n rows of the DataFrame.\n",
    "tail() - Returns the last n rows of the DataFrame.\n",
    "describe() - Generates descriptive statistics of the DataFrame.\n",
    "drop() - Drops specified rows or columns from the DataFrame.\n",
    "sort_values() - Sorts the DataFrame by specified column(s).\n",
    "groupby() - Groups the DataFrame by one or more columns.\n",
    "merge() - Merges two DataFrames based on a common column.\n",
    "pivot_table() - Creates a pivot table from the DataFrame."
   ]
  },
  {
   "cell_type": "code",
   "execution_count": 20,
   "id": "1fb6e209-54be-4bac-b951-66ab63895f1e",
   "metadata": {},
   "outputs": [
    {
     "name": "stdout",
     "output_type": "stream",
     "text": [
      "      Name  Age Country\n",
      "0    Alice   25     USA\n",
      "1      Bob   30  Canada\n",
      "2  Charlie   35      UK\n",
      "<---------------------->\n",
      "      Name  Age Country\n",
      "0    Alice   25     USA\n",
      "3    Alice   28     USA\n",
      "1      Bob   30  Canada\n",
      "4      Bob   32  Canada\n",
      "2  Charlie   35      UK\n",
      "5  Charlie   37      UK\n",
      "<---------------------->\n",
      "Country\n",
      "Canada    31.0\n",
      "UK        36.0\n",
      "USA       26.5\n",
      "Name: Age, dtype: float64\n"
     ]
    }
   ],
   "source": [
    "import pandas as pd\n",
    "\n",
    "data = {\n",
    "    'Name': ['Alice', 'Bob', 'Charlie', 'Alice', 'Bob', 'Charlie'],\n",
    "    'Age': [25, 30, 35, 28, 32, 37],\n",
    "    'Country': ['USA', 'Canada', 'UK', 'USA', 'Canada', 'UK']\n",
    "}\n",
    "\n",
    "df = pd.DataFrame(data)\n",
    "\n",
    "# Print the first 3 rows\n",
    "print(df.head(3))\n",
    "print('<---------------------->')\n",
    "# Sort the DataFrame by Age in descending order\n",
    "sorted_df = df.sort_values('Age')\n",
    "print(sorted_df)\n",
    "print('<---------------------->')\n",
    "\n",
    "# Group the DataFrame by Country and calculate the mean age\n",
    "grouped_df = df.groupby('Country')['Age'].mean()\n",
    "print(grouped_df)"
   ]
  },
  {
   "cell_type": "markdown",
   "id": "43109f42-f629-4835-a44b-567d53380dec",
   "metadata": {},
   "source": [
    "Q6. Which of the following is mutable in nature Series, DataFrame, Panel?"
   ]
  },
  {
   "cell_type": "markdown",
   "id": "c6dab2a1-947e-4d44-92bf-22e2fe972900",
   "metadata": {},
   "source": [
    "Among Series, DataFrame, and Panel, only Series and DataFrame are mutable in nature. Panel, which was a 3-dimensional data structure in older versions of pandas, has been deprecated."
   ]
  },
  {
   "cell_type": "markdown",
   "id": "2236bef2-72f0-432b-b6a9-c3f5980e38e3",
   "metadata": {},
   "source": [
    "Q7. Create a DataFrame using multiple Series. Explain with an example."
   ]
  },
  {
   "cell_type": "code",
   "execution_count": 21,
   "id": "ebebc96d-7499-45ae-aca7-80e3517e77ac",
   "metadata": {},
   "outputs": [
    {
     "name": "stdout",
     "output_type": "stream",
     "text": [
      "      Name  Age Country\n",
      "0    Alice   25     USA\n",
      "1      Bob   30  Canada\n",
      "2  Charlie   35      UK\n"
     ]
    }
   ],
   "source": [
    "import pandas as pd\n",
    "\n",
    "name_series = pd.Series(['Alice', 'Bob', 'Charlie'])\n",
    "age_series = pd.Series([25, 30, 35])\n",
    "country_series = pd.Series(['USA', 'Canada', 'UK'])\n",
    "\n",
    "df = pd.DataFrame({\n",
    "    'Name': name_series,\n",
    "    'Age': age_series,\n",
    "    'Country': country_series\n",
    "})\n",
    "\n",
    "print(df)\n"
   ]
  }
 ],
 "metadata": {
  "kernelspec": {
   "display_name": "Python 3 (ipykernel)",
   "language": "python",
   "name": "python3"
  },
  "language_info": {
   "codemirror_mode": {
    "name": "ipython",
    "version": 3
   },
   "file_extension": ".py",
   "mimetype": "text/x-python",
   "name": "python",
   "nbconvert_exporter": "python",
   "pygments_lexer": "ipython3",
   "version": "3.10.8"
  }
 },
 "nbformat": 4,
 "nbformat_minor": 5
}
