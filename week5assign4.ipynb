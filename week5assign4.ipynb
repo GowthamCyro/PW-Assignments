{
 "cells": [
  {
   "cell_type": "markdown",
   "id": "85b81714-8ac1-4f70-9c84-8c23dd74caa8",
   "metadata": {},
   "source": [
    "Q1. What is multiprocessing in python? Why is it useful?"
   ]
  },
  {
   "cell_type": "markdown",
   "id": "d418ea40-07e0-4354-a8a0-e56eb518a468",
   "metadata": {},
   "source": [
    "Multiprocessing in Python refers to the ability of a program to create and manage multiple processes simultaneously. A process is an instance of a program that runs independently and has its own memory space. Multiprocessing allows for parallel execution of tasks by utilizing multiple processors or cores. It is useful for computationally intensive tasks that can be divided into smaller parts and processed concurrently, thereby improving overall performance and utilizing available hardware resources efficiently."
   ]
  },
  {
   "cell_type": "markdown",
   "id": "ae5d3c17-b8c2-4f34-a2d5-225d0bba69c8",
   "metadata": {},
   "source": [
    "Q2. What are the differences between multiprocessing and multithreading?"
   ]
  },
  {
   "cell_type": "markdown",
   "id": "03f8e10f-b244-48a1-bc4b-46e20fc5ab4c",
   "metadata": {},
   "source": [
    "The main differences between multiprocessing and multithreading are as follows:\n",
    "\n",
    "Memory: Each process in multiprocessing has its own separate memory space, while threads in multithreading share the same memory space within a process.\n",
    "\n",
    "CPU utilization: Multiprocessing can utilize multiple processors or cores effectively by running processes in parallel, whereas multithreading is limited by the Global Interpreter Lock (GIL) in Python, which allows only one thread to execute at a time, preventing true parallelism on CPU-bound tasks.\n",
    "\n",
    "Communication: Processes in multiprocessing communicate using inter-process communication (IPC) mechanisms such as pipes, queues, or shared memory. Threads in multithreading can communicate by directly accessing shared variables.\n",
    "\n",
    "Complexity: Multiprocessing introduces more overhead due to the need for inter-process communication, synchronization mechanisms, and data sharing. Multithreading has less overhead but requires careful synchronization to avoid race conditions."
   ]
  },
  {
   "cell_type": "markdown",
   "id": "66eabe33-2202-4209-b055-cec4cace2168",
   "metadata": {},
   "source": [
    "Q3. Write a python code to create a process using the multiprocessing module."
   ]
  },
  {
   "cell_type": "code",
   "execution_count": 2,
   "id": "3c008993-8415-41e5-8945-9e4a53282d52",
   "metadata": {},
   "outputs": [
    {
     "name": "stdout",
     "output_type": "stream",
     "text": [
      "This is the main method\n",
      "This is multiprocessing\n"
     ]
    }
   ],
   "source": [
    "import multiprocessing\n",
    "\n",
    "def process():\n",
    "    print(\"This is multiprocessing\")\n",
    "    \n",
    "if __name__ ==  '__main__':\n",
    "    m = multiprocessing.Process(target=process)\n",
    "    print(\"This is the main method\")\n",
    "    m.start()\n",
    "    m.join()"
   ]
  },
  {
   "cell_type": "markdown",
   "id": "de90a70f-bc59-4956-8531-e99cfa5142a7",
   "metadata": {},
   "source": [
    "Q4. What is a multiprocessing pool in python? Why is it used?"
   ]
  },
  {
   "cell_type": "markdown",
   "id": "48dc0892-492f-42de-bba6-905886f0a7ed",
   "metadata": {},
   "source": [
    "A multiprocessing pool in Python, represented by the Pool class in the multiprocessing module, is a convenient way to distribute tasks among a fixed number of worker processes. It allows for efficient parallel execution of tasks by reusing a pool of worker processes, eliminating the overhead of creating and terminating processes for each task. The pool provides methods for submitting tasks to the worker processes and retrieving the results."
   ]
  },
  {
   "cell_type": "markdown",
   "id": "80db58c9-8d60-4d6b-87ad-3b2a93359b98",
   "metadata": {},
   "source": [
    "Q5. How can we create a pool of worker processes in python using the multiprocessing module?"
   ]
  },
  {
   "cell_type": "code",
   "execution_count": null,
   "id": "0fb9caec-ac6c-45a4-8129-636d917d2a21",
   "metadata": {},
   "outputs": [],
   "source": [
    "import multiprocessing\n",
    "\n",
    "def square(n):\n",
    "    return n**2\n",
    "    \n",
    "if __name__ ==  '__main__':\n",
    "    with multiprocessing.Pool(processes=10) as p:\n",
    "        out = p.map(square,[1,2,3,4,6,5])\n",
    "        print(out)"
   ]
  },
  {
   "cell_type": "markdown",
   "id": "e374243f-ef87-416c-8643-b22321e148cc",
   "metadata": {},
   "source": [
    "Q6. Write a python program to create 4 processes, each process should print a different number using the\n",
    "multiprocessing module in python."
   ]
  },
  {
   "cell_type": "code",
   "execution_count": 9,
   "id": "613958d8-7c28-4e6c-9749-1ba5c4c0ca85",
   "metadata": {},
   "outputs": [
    {
     "name": "stdout",
     "output_type": "stream",
     "text": [
      "Process 0 printing: 0\n",
      "Process 1 printing: 1\n",
      "Process 2 printing: 2\n",
      "Process 3 printing: 3\n"
     ]
    }
   ],
   "source": [
    "import multiprocessing\n",
    "import time\n",
    "\n",
    "def print_number(num):\n",
    "    print(\"Process\", num, \"printing:\", num)\n",
    "\n",
    "if __name__ == '__main__':\n",
    "    processes = []\n",
    "    for i in range(4):\n",
    "        process = multiprocessing.Process(target=print_number, args=(i,))\n",
    "        time.sleep(1)\n",
    "        processes.append(process)\n",
    "        process.start()\n",
    "\n",
    "    for process in processes:\n",
    "        process.join()\n"
   ]
  }
 ],
 "metadata": {
  "kernelspec": {
   "display_name": "Python 3 (ipykernel)",
   "language": "python",
   "name": "python3"
  },
  "language_info": {
   "codemirror_mode": {
    "name": "ipython",
    "version": 3
   },
   "file_extension": ".py",
   "mimetype": "text/x-python",
   "name": "python",
   "nbconvert_exporter": "python",
   "pygments_lexer": "ipython3",
   "version": "3.10.8"
  }
 },
 "nbformat": 4,
 "nbformat_minor": 5
}
