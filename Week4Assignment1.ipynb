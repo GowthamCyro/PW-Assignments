{
 "cells": [
  {
   "cell_type": "markdown",
   "id": "becb0fba-7dfb-4cb9-a930-ebaba7c91b2f",
   "metadata": {},
   "source": [
    "Q1. Explain Class and Object with respect to Object-Oriented Programming. Give a suitable example."
   ]
  },
  {
   "cell_type": "markdown",
   "id": "23915f12-9f5d-47cd-b2ec-b2058e1fe162",
   "metadata": {},
   "source": [
    "Class is the combination of both member functions and data members.\n",
    "Object is the instance of a class.\n",
    "Below is the example for a class and an object"
   ]
  },
  {
   "cell_type": "code",
   "execution_count": 6,
   "id": "f9519eb1-ad95-4496-874d-7fbb99b0344f",
   "metadata": {},
   "outputs": [],
   "source": [
    "class pwassignment: #class\n",
    "    price = 3500\n",
    "    def assign1(self):\n",
    "        print(\"This is my week4 assignment\")"
   ]
  },
  {
   "cell_type": "code",
   "execution_count": 7,
   "id": "acb24449-ee4f-4c1e-99b1-fc82bfddd91c",
   "metadata": {},
   "outputs": [],
   "source": [
    "pw = pwassignment()"
   ]
  },
  {
   "cell_type": "code",
   "execution_count": 8,
   "id": "51488081-4294-4bce-b3e8-8c2d57a7d4ce",
   "metadata": {},
   "outputs": [
    {
     "data": {
      "text/plain": [
       "3500"
      ]
     },
     "execution_count": 8,
     "metadata": {},
     "output_type": "execute_result"
    }
   ],
   "source": [
    "pw.price"
   ]
  },
  {
   "cell_type": "code",
   "execution_count": 9,
   "id": "a2cdc7fe-9aa5-4dd8-9436-662c13af6562",
   "metadata": {},
   "outputs": [
    {
     "name": "stdout",
     "output_type": "stream",
     "text": [
      "This is my week4 assignment\n"
     ]
    }
   ],
   "source": [
    "pw.assign1()"
   ]
  },
  {
   "cell_type": "markdown",
   "id": "95c2ad3a-a176-4b0c-9734-5d825120b333",
   "metadata": {},
   "source": [
    "Q2. Name the four pillars of OOPs."
   ]
  },
  {
   "cell_type": "markdown",
   "id": "163f31cc-eb52-44a9-990b-4a0952044f04",
   "metadata": {},
   "source": [
    "Abstraction.\n",
    "Encapsulation.\n",
    "Inheritance.\n",
    "Polymorphism."
   ]
  },
  {
   "cell_type": "markdown",
   "id": "a0f5ccd4-183f-40cd-ba29-ab6ef9e441ec",
   "metadata": {},
   "source": [
    "Q3. Explain why the __init__() function is used. Give a suitable example."
   ]
  },
  {
   "cell_type": "markdown",
   "id": "8c395052-64c4-4339-aa20-4196a24f965b",
   "metadata": {},
   "source": [
    "The __init__() function is a magical method which is used to create and assign data to the object of a class.\n",
    "Following is an example for this question"
   ]
  },
  {
   "cell_type": "code",
   "execution_count": 11,
   "id": "10d1c49f-3a31-425a-99a1-e96cfffc02c5",
   "metadata": {},
   "outputs": [],
   "source": [
    "class pwskills:\n",
    "    def course(self,course_name,course_price):\n",
    "        self.course = course_name\n",
    "        self.price = course_price\n",
    "    def access(self):\n",
    "        print(\"The course name is \",self.course)\n",
    "        print(\"The course price is \",self.price)"
   ]
  },
  {
   "cell_type": "code",
   "execution_count": 12,
   "id": "f9157b4c-3be8-4605-b7e8-3a5b24b16e42",
   "metadata": {},
   "outputs": [],
   "source": [
    "pw = pwskills()"
   ]
  },
  {
   "cell_type": "code",
   "execution_count": 13,
   "id": "b54ab1b9-0786-40bb-bba1-46eddfc4d5cb",
   "metadata": {},
   "outputs": [],
   "source": [
    "pw.course(\"DataScienceMasters2.0\",3500)"
   ]
  },
  {
   "cell_type": "code",
   "execution_count": 14,
   "id": "9004c001-a17d-4ef5-988a-97fdf7aa2394",
   "metadata": {},
   "outputs": [
    {
     "name": "stdout",
     "output_type": "stream",
     "text": [
      "The course name is  DataScienceMasters2.0\n",
      "The course price is  3500\n"
     ]
    }
   ],
   "source": [
    "pw.access()"
   ]
  },
  {
   "cell_type": "markdown",
   "id": "91c24966-a411-4d0d-bad7-015f5e4ad0ce",
   "metadata": {},
   "source": [
    "Q4. Why self is used in OOPs?"
   ]
  },
  {
   "cell_type": "markdown",
   "id": "6923b505-cba9-404f-b3a7-521229312f30",
   "metadata": {},
   "source": [
    "The self is used in oops becuase here the self indicates the address of the object in oops. With the help of the self the class can identify the data of a specifice instance of a class.It basically represents the current instance of the class."
   ]
  },
  {
   "cell_type": "markdown",
   "id": "aa4a88f1-2fbf-43df-9ed3-4da00aa60e6b",
   "metadata": {},
   "source": [
    "Q5. What is inheritance? Give an example for each type of inheritance."
   ]
  },
  {
   "cell_type": "markdown",
   "id": "5dc260b7-5de1-42fa-9d6d-76c77b4f02c6",
   "metadata": {},
   "source": [
    "Inhertinace is acqiring the parent class properties to the child class.We use generally 3 types of inhertiance :\n",
    "1) Single Inheritance\n",
    "2) Multilevel Inheritance\n",
    "3) Mulitple Inhertiance"
   ]
  },
  {
   "cell_type": "code",
   "execution_count": 16,
   "id": "37d49b4a-06b4-4c75-9d62-59c4c8c0aa7d",
   "metadata": {},
   "outputs": [],
   "source": [
    "#Single Inheritance\n",
    "class A:  #parent class\n",
    "    def car(self):\n",
    "        print(\"This is a veichle which runs on 4 wheels\")\n",
    "class B(A):  #child class\n",
    "    def GTR(self):\n",
    "        print(\"It is one of the costliest cars in India\")  "
   ]
  },
  {
   "cell_type": "code",
   "execution_count": 17,
   "id": "9bd98254-df8e-465c-be66-ba6f8eefb4ee",
   "metadata": {},
   "outputs": [],
   "source": [
    "obj = B()"
   ]
  },
  {
   "cell_type": "code",
   "execution_count": 18,
   "id": "a3f10f53-912d-4f73-8c89-06e867799612",
   "metadata": {},
   "outputs": [
    {
     "name": "stdout",
     "output_type": "stream",
     "text": [
      "It is one of the costliest cars in India\n"
     ]
    }
   ],
   "source": [
    "obj.GTR()"
   ]
  },
  {
   "cell_type": "code",
   "execution_count": 26,
   "id": "ac653fc0-a436-40b8-86a4-7df9fc3d01fe",
   "metadata": {},
   "outputs": [
    {
     "name": "stdout",
     "output_type": "stream",
     "text": [
      "This is a veichle which runs on 4 wheels\n"
     ]
    }
   ],
   "source": [
    "obj.car()"
   ]
  },
  {
   "cell_type": "code",
   "execution_count": 20,
   "id": "3d2bfe8b-d421-4d57-9324-f686c76c7f39",
   "metadata": {},
   "outputs": [],
   "source": [
    "#Mutlilevel Inheritance\n",
    "class A:  \n",
    "    def car(self):\n",
    "        print(\"This is a veichle which runs on 4 wheels\")\n",
    "class B(A):  \n",
    "    def GTR(self):\n",
    "        print(\"It is one of the costliest cars in India\")  \n",
    "class C(B):\n",
    "    def Colour(self):\n",
    "        print(\"It is a colour combination of Black and White with a good animations on it\")"
   ]
  },
  {
   "cell_type": "code",
   "execution_count": 21,
   "id": "8314366d-c14c-475d-ae38-9924ed95f476",
   "metadata": {},
   "outputs": [],
   "source": [
    "obj = C()"
   ]
  },
  {
   "cell_type": "code",
   "execution_count": 22,
   "id": "fb27c306-a846-4a11-8cfa-88071eea57e6",
   "metadata": {},
   "outputs": [
    {
     "name": "stdout",
     "output_type": "stream",
     "text": [
      "This is a veichle which runs on 4 wheels\n"
     ]
    }
   ],
   "source": [
    "obj.car()"
   ]
  },
  {
   "cell_type": "code",
   "execution_count": 23,
   "id": "c3cf4fe0-01e9-44db-a1d2-fd4d0dea3367",
   "metadata": {},
   "outputs": [
    {
     "name": "stdout",
     "output_type": "stream",
     "text": [
      "It is one of the costliest cars in India\n"
     ]
    }
   ],
   "source": [
    "obj.GTR()"
   ]
  },
  {
   "cell_type": "code",
   "execution_count": 25,
   "id": "e0dd1708-cf23-4161-b53c-32a4e2c09c1d",
   "metadata": {},
   "outputs": [
    {
     "name": "stdout",
     "output_type": "stream",
     "text": [
      "It is a colour combination of Black and White with a good animations on it\n"
     ]
    }
   ],
   "source": [
    "obj.Colour()"
   ]
  },
  {
   "cell_type": "code",
   "execution_count": 27,
   "id": "7510a71c-836f-4f45-84ec-f7a9e3899aa3",
   "metadata": {},
   "outputs": [],
   "source": [
    "#Multiple Inheritance\n",
    "class A:  \n",
    "    def car(self):\n",
    "        print(\"This is a veichle which runs on 4 wheels\")\n",
    "class B:  \n",
    "    def GTR(self):\n",
    "        print(\"It is one of the costliest cars in India\")  \n",
    "class C(A,B):\n",
    "    def Colour(self):\n",
    "        print(\"It is a colour combination of Black and White with a good animations on it\")"
   ]
  },
  {
   "cell_type": "code",
   "execution_count": 29,
   "id": "ab4c3cba-6168-4202-a16e-6c8a67913eba",
   "metadata": {},
   "outputs": [],
   "source": [
    "obj = C()"
   ]
  },
  {
   "cell_type": "code",
   "execution_count": 30,
   "id": "5382c6c6-7191-43d6-829b-b9eb1ee8164a",
   "metadata": {},
   "outputs": [
    {
     "name": "stdout",
     "output_type": "stream",
     "text": [
      "This is a veichle which runs on 4 wheels\n"
     ]
    }
   ],
   "source": [
    "obj.car()"
   ]
  },
  {
   "cell_type": "code",
   "execution_count": 31,
   "id": "c1351546-499c-4302-8383-0cbb8f4544af",
   "metadata": {},
   "outputs": [
    {
     "name": "stdout",
     "output_type": "stream",
     "text": [
      "It is one of the costliest cars in India\n"
     ]
    }
   ],
   "source": [
    "obj.GTR()"
   ]
  },
  {
   "cell_type": "code",
   "execution_count": 32,
   "id": "405cc855-433e-4a23-9410-25f26aa9137e",
   "metadata": {},
   "outputs": [
    {
     "name": "stdout",
     "output_type": "stream",
     "text": [
      "It is a colour combination of Black and White with a good animations on it\n"
     ]
    }
   ],
   "source": [
    "obj.Colour()"
   ]
  }
 ],
 "metadata": {
  "kernelspec": {
   "display_name": "Python 3 (ipykernel)",
   "language": "python",
   "name": "python3"
  },
  "language_info": {
   "codemirror_mode": {
    "name": "ipython",
    "version": 3
   },
   "file_extension": ".py",
   "mimetype": "text/x-python",
   "name": "python",
   "nbconvert_exporter": "python",
   "pygments_lexer": "ipython3",
   "version": "3.10.8"
  }
 },
 "nbformat": 4,
 "nbformat_minor": 5
}
