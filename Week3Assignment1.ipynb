{
 "cells": [
  {
   "cell_type": "markdown",
   "id": "faa990a6-f539-4001-874c-67a47230ac9a",
   "metadata": {},
   "source": [
    "Q1. Which keyword is used to create a function? Create a function to return a list of odd numbers in the\n",
    "range of 1 to 25."
   ]
  },
  {
   "cell_type": "code",
   "execution_count": 1,
   "id": "49950a09-30f9-4e76-8ad4-7cbe19bcf713",
   "metadata": {},
   "outputs": [
    {
     "data": {
      "text/plain": [
       "[1, 3, 5, 7, 9, 11, 13, 15, 17, 19, 21, 23, 25]"
      ]
     },
     "execution_count": 1,
     "metadata": {},
     "output_type": "execute_result"
    }
   ],
   "source": [
    "#The keyword \"def\" is used to create a function\n",
    "def odd():\n",
    "    l = []\n",
    "    for i in range(1,26):\n",
    "        if i%2!=0:\n",
    "            l.append(i)\n",
    "    return l\n",
    "odd()"
   ]
  },
  {
   "cell_type": "markdown",
   "id": "b1874d3a-25fb-4dd6-be23-6d579c3db1fd",
   "metadata": {},
   "source": [
    "Q2. Why *args and **kwargs is used in some functions? Create a function each for *args and **kwargs to\n",
    "demonstrate their use."
   ]
  },
  {
   "cell_type": "code",
   "execution_count": 2,
   "id": "a2d9b3d7-deca-4d2b-a408-e05d8303c245",
   "metadata": {},
   "outputs": [
    {
     "name": "stdout",
     "output_type": "stream",
     "text": [
      "(1,)\n",
      "(1, 2)\n",
      "(1, 2, 'pwskills')\n",
      "(1, 2, 'pwskills', True)\n",
      "(1, 2, 'pwskills', True, [1, 2, 3, 4, 5, 6, 7])\n"
     ]
    }
   ],
   "source": [
    "# The *args is used when we don't know how many arguments to pass in a function\n",
    "# The **kwargs is used when we want to take many key,value pair arguments in a function\n",
    "def test(*args):\n",
    "    return args\n",
    "print(test(1))\n",
    "print(test(1,2))\n",
    "print(test(1,2,\"pwskills\"))\n",
    "print(test(1,2,\"pwskills\",True))\n",
    "print(test(1,2,\"pwskills\",True,[1,2,3,4,5,6,7]))"
   ]
  },
  {
   "cell_type": "code",
   "execution_count": 3,
   "id": "846aa2ef-872f-4cf7-bad2-11b9b6ecefc4",
   "metadata": {},
   "outputs": [
    {
     "name": "stdout",
     "output_type": "stream",
     "text": [
      "{'a': 1}\n",
      "{'a': 1, 'b': 2}\n",
      "{'a': 1, 'b': 2, 'c': 'pwskills'}\n"
     ]
    }
   ],
   "source": [
    "def test(**kwargs):\n",
    "    return kwargs\n",
    "print(test(a=1))\n",
    "print(test(a=1,b=2))\n",
    "print(test(a=1,b=2,c=\"pwskills\"))"
   ]
  },
  {
   "cell_type": "markdown",
   "id": "2e236286-75c7-4f1a-9114-e8a61252c9d9",
   "metadata": {},
   "source": [
    "Q3. What is an iterator in python? Name the method used to initialise the iterator object and the method\n",
    "used for iteration. Use these methods to print the first five elements of the given list [2, 4, 6, 8, 10, 12, 14, 16,\n",
    "18, 20]."
   ]
  },
  {
   "cell_type": "markdown",
   "id": "d4917e01-520b-4b09-835b-eb5bfcd7bf4b",
   "metadata": {},
   "source": [
    "In Python, an iterator is an object that allows iteration over a sequence of elements. It provides a way to access the elements of a container (such as a list) one by one without exposing the underlying implementation details.\n",
    "\n",
    "To initialize an iterator object in Python, we typically use the iter() function, which takes an iterable as an argument and returns an iterator object. The iterator object can then be used to iterate over the elements using the next() function or in a loop.\n",
    "\n",
    "To print the first five elements of the given list [2, 4, 6, 8, 10, 12, 14, 16, 18, 20], we can follow these steps:"
   ]
  },
  {
   "cell_type": "code",
   "execution_count": 4,
   "id": "0acdf942-d29b-4ca8-8db3-23e354037db5",
   "metadata": {},
   "outputs": [
    {
     "name": "stdout",
     "output_type": "stream",
     "text": [
      "2\n",
      "4\n",
      "6\n",
      "8\n",
      "10\n"
     ]
    }
   ],
   "source": [
    "my_list = [2, 4, 6, 8, 10, 12, 14, 16, 18, 20]\n",
    "\n",
    "# Initialize the iterator object\n",
    "itr = iter(my_list)\n",
    "\n",
    "# Iterate and print the first five elements\n",
    "for _ in range(5):\n",
    "    element = next(itr)\n",
    "    print(element)"
   ]
  },
  {
   "cell_type": "markdown",
   "id": "5f94a79b-cb4a-497a-8017-b323ec74bd2a",
   "metadata": {},
   "source": [
    "Q4. What is a generator function in python? Why yield keyword is used? Give an example of a generator\n",
    "function."
   ]
  },
  {
   "cell_type": "markdown",
   "id": "c8542804-16c6-4ea8-9512-e885d837473e",
   "metadata": {},
   "source": [
    "In Python, a generator function is a special type of function that returns an iterator object. It uses the yield keyword to define a sequence of values to be generated instead of computing and storing all the values at once."
   ]
  },
  {
   "cell_type": "code",
   "execution_count": 5,
   "id": "8e98c279-02a5-43d3-8b88-ffe103b1c982",
   "metadata": {},
   "outputs": [
    {
     "data": {
      "text/plain": [
       "[0, 1, 1, 2, 3, 5, 8, 13, 21, 34]"
      ]
     },
     "execution_count": 5,
     "metadata": {},
     "output_type": "execute_result"
    }
   ],
   "source": [
    "#Example for generator method is fabonicci series\n",
    "def test():\n",
    "    a,b = 0,1\n",
    "    for i in range(10):\n",
    "        yield a \n",
    "        a,b = b,a+b\n",
    "list(test())"
   ]
  },
  {
   "cell_type": "markdown",
   "id": "7aea76ec-1e3e-4c77-9daa-2a0d3798ccc2",
   "metadata": {},
   "source": [
    "Q5. Create a generator function for prime numbers less than 1000. Use the next() method to print the\n",
    "first 20 prime numbers."
   ]
  },
  {
   "cell_type": "code",
   "execution_count": 6,
   "id": "46304b45-d5e2-4a4c-9f31-a6e3c7958682",
   "metadata": {},
   "outputs": [],
   "source": [
    "def test():\n",
    "    l=[]\n",
    "    for i in range(1,100):\n",
    "        n=1\n",
    "        flag = 0\n",
    "        while(i>=n):\n",
    "            if i%n == 0:\n",
    "                flag = flag + 1\n",
    "            n = n + 1 \n",
    "        if(flag == 2):\n",
    "            yield i\n",
    "itr=test()            "
   ]
  },
  {
   "cell_type": "code",
   "execution_count": 7,
   "id": "d315cc6f-38cf-47f7-ae5f-becd67f5e071",
   "metadata": {},
   "outputs": [
    {
     "name": "stdout",
     "output_type": "stream",
     "text": [
      "2\n",
      "3\n",
      "5\n",
      "7\n",
      "11\n",
      "13\n",
      "17\n",
      "19\n",
      "23\n",
      "29\n",
      "31\n",
      "37\n",
      "41\n",
      "43\n",
      "47\n",
      "53\n",
      "59\n",
      "61\n",
      "67\n"
     ]
    }
   ],
   "source": [
    "for i in range(1,20):\n",
    "    print(next(itr))"
   ]
  }
 ],
 "metadata": {
  "kernelspec": {
   "display_name": "Python 3 (ipykernel)",
   "language": "python",
   "name": "python3"
  },
  "language_info": {
   "codemirror_mode": {
    "name": "ipython",
    "version": 3
   },
   "file_extension": ".py",
   "mimetype": "text/x-python",
   "name": "python",
   "nbconvert_exporter": "python",
   "pygments_lexer": "ipython3",
   "version": "3.10.8"
  }
 },
 "nbformat": 4,
 "nbformat_minor": 5
}
