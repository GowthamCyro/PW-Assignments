{
 "cells": [
  {
   "cell_type": "markdown",
   "id": "d6401fa4-9a97-4613-a2c7-1405c7df4166",
   "metadata": {},
   "source": [
    "Q1. What is an Exception In python? Write the difference between Exceptions and Syntax errors."
   ]
  },
  {
   "cell_type": "markdown",
   "id": "79f68d10-41c6-46ce-ad7c-896e47b14615",
   "metadata": {},
   "source": [
    "Exception : In Python, an exception is an event that occurs during the execution of a program and disrupts the normal flow of code\n",
    "The main difference between the exceptions and syntax errors is that the exceptions are runtime errors and the syntax errors are compile time errors"
   ]
  },
  {
   "cell_type": "markdown",
   "id": "a221a1b1-4bb6-4b0e-aaad-09871c80497c",
   "metadata": {},
   "source": [
    "Q2. What happens when an exception is not handled? Explain with an example."
   ]
  },
  {
   "cell_type": "markdown",
   "id": "5b17e3a2-3aeb-4c19-825f-aba709f64d18",
   "metadata": {},
   "source": [
    "When we not handle an exception the program flow of execution is stopped and the further program is not executed and an error is thrown to the console.Example given below"
   ]
  },
  {
   "cell_type": "code",
   "execution_count": 3,
   "id": "4b1fcae1-de23-4318-a17c-cafce4cd0889",
   "metadata": {},
   "outputs": [
    {
     "ename": "ZeroDivisionError",
     "evalue": "division by zero",
     "output_type": "error",
     "traceback": [
      "\u001b[0;31m---------------------------------------------------------------------------\u001b[0m",
      "\u001b[0;31mZeroDivisionError\u001b[0m                         Traceback (most recent call last)",
      "Cell \u001b[0;32mIn[3], line 2\u001b[0m\n\u001b[1;32m      1\u001b[0m a\u001b[38;5;241m=\u001b[39m\u001b[38;5;241m10\u001b[39m\n\u001b[0;32m----> 2\u001b[0m \u001b[43ma\u001b[49m\u001b[38;5;241;43m/\u001b[39;49m\u001b[38;5;241;43m0\u001b[39;49m\n\u001b[1;32m      3\u001b[0m \u001b[38;5;28mprint\u001b[39m(\u001b[38;5;124m\"\u001b[39m\u001b[38;5;124mwe are dividing it by zero\u001b[39m\u001b[38;5;124m\"\u001b[39m)  \n",
      "\u001b[0;31mZeroDivisionError\u001b[0m: division by zero"
     ]
    }
   ],
   "source": [
    "a=10\n",
    "a/0\n",
    "print(\"we are dividing it by zero\")  "
   ]
  },
  {
   "cell_type": "markdown",
   "id": "dd354dc1-aeb1-436d-bc80-36f7836333b7",
   "metadata": {},
   "source": [
    "Q3. Which Python statements are used to catch and handle exceptions? Explain with an example."
   ]
  },
  {
   "cell_type": "markdown",
   "id": "b6d02dfb-ad07-4712-84f5-4f58fa8bbcb3",
   "metadata": {},
   "source": [
    "we use try and except blocks to handle and catch exceptions"
   ]
  },
  {
   "cell_type": "code",
   "execution_count": 4,
   "id": "3391223a-86a8-4dcf-b3c5-c0f6f3bb641f",
   "metadata": {},
   "outputs": [
    {
     "name": "stdout",
     "output_type": "stream",
     "text": [
      "division by zero\n",
      "we are dividing it by zero\n"
     ]
    }
   ],
   "source": [
    "try:\n",
    "    a=10\n",
    "    a/0\n",
    "except Exception as e:\n",
    "    print(e)\n",
    "print(\"we are dividing it by zero\") "
   ]
  },
  {
   "cell_type": "markdown",
   "id": "d5bdc8cb-401c-43ab-842e-777d087ba172",
   "metadata": {},
   "source": [
    "Q4. Explain with an example:\n",
    "a. try and else\n",
    "b. finally\n",
    "c. raise"
   ]
  },
  {
   "cell_type": "code",
   "execution_count": 6,
   "id": "2d4847be-ea1f-42e9-875e-c6033f93f733",
   "metadata": {},
   "outputs": [
    {
     "name": "stdout",
     "output_type": "stream",
     "text": [
      "The value of a is  10\n"
     ]
    }
   ],
   "source": [
    "try:\n",
    "    a=10\n",
    "    type(a)\n",
    "except Exception as e:\n",
    "    print(e)\n",
    "else:\n",
    "    print(\"The value of a is \",a)   "
   ]
  },
  {
   "cell_type": "code",
   "execution_count": 9,
   "id": "bf272c1b-f401-40f7-8f8c-4fb8a99fd70d",
   "metadata": {},
   "outputs": [
    {
     "name": "stdout",
     "output_type": "stream",
     "text": [
      "division by zero\n",
      "The finally block is used to execute eventhough there is an exception or no exception\n"
     ]
    }
   ],
   "source": [
    "try:\n",
    "    a=10\n",
    "    a/0\n",
    "except Exception as e:\n",
    "    print(e)\n",
    "finally:\n",
    "    print(\"The finally block is used to execute eventhough there is an exception or no exception\")"
   ]
  },
  {
   "cell_type": "code",
   "execution_count": 10,
   "id": "a7064b71-f86c-420b-b650-0918572e298b",
   "metadata": {},
   "outputs": [
    {
     "name": "stdin",
     "output_type": "stream",
     "text": [
      "Enter your age 200\n"
     ]
    }
   ],
   "source": [
    "class validate_age(Exception):\n",
    "    def __init__(self,msg):\n",
    "        self.msg = msg\n",
    "        \n",
    "def validateage(age):\n",
    "    if age < 0 :\n",
    "        raise validate_age(\"age should not be less than 0\")\n",
    "try :\n",
    "    age = int(input(\"Enter your age\"))\n",
    "    validateage(age)\n",
    "except validate_age as e:\n",
    "    print(e)"
   ]
  },
  {
   "cell_type": "markdown",
   "id": "0862ad27-6196-4ba1-94c9-a5086d8d8b39",
   "metadata": {},
   "source": [
    "Q5. What are Custom Exceptions in python? Why do we need Custom Exceptions? Explain with an example."
   ]
  },
  {
   "cell_type": "markdown",
   "id": "0611fc25-fbcf-4dea-8923-7aed9f740522",
   "metadata": {},
   "source": [
    "Custom exceptions in python are the exceptions which are defined by the programmer according to his needs.We need custom exceptions because the system may accept accept the values that are not actually accepted in real world.for example the when we take input from a user about his age we will define it with int so that when the user can also give the age in -ve numbers so at that time we can use custom exception handling"
   ]
  },
  {
   "cell_type": "code",
   "execution_count": 7,
   "id": "249a58ea-be4e-429e-85f6-ea3584645b2d",
   "metadata": {},
   "outputs": [
    {
     "name": "stdin",
     "output_type": "stream",
     "text": [
      "Enter your age -2344\n"
     ]
    }
   ],
   "source": [
    "age = int(input(\"Enter your age\"))"
   ]
  },
  {
   "cell_type": "markdown",
   "id": "341e1b2f-21c6-42ac-8974-0aeecc970378",
   "metadata": {},
   "source": [
    "Q6. Create a custom exception class. Use this class to handle an exception."
   ]
  },
  {
   "cell_type": "code",
   "execution_count": 8,
   "id": "15137dc5-9451-40df-8537-36c9f4f85a21",
   "metadata": {},
   "outputs": [
    {
     "name": "stdin",
     "output_type": "stream",
     "text": [
      "Enter your age -23\n"
     ]
    },
    {
     "name": "stdout",
     "output_type": "stream",
     "text": [
      "age should not be less than 0\n"
     ]
    }
   ],
   "source": [
    "class validate_age(Exception):\n",
    "    def __init__(self,msg):\n",
    "        self.msg = msg\n",
    "        \n",
    "def validateage(age):\n",
    "    if age < 0 :\n",
    "        raise validate_age(\"age should not be less than 0\")\n",
    "    elif age > 200:\n",
    "        raise validate_age(\"Age should not be greater than 200\")\n",
    "    else :\n",
    "        print(\"age is valid\")\n",
    "        \n",
    "try :\n",
    "    age = int(input(\"Enter your age\"))\n",
    "    validateage(age)\n",
    "except validate_age as e:\n",
    "    print(e)"
   ]
  }
 ],
 "metadata": {
  "kernelspec": {
   "display_name": "Python 3 (ipykernel)",
   "language": "python",
   "name": "python3"
  },
  "language_info": {
   "codemirror_mode": {
    "name": "ipython",
    "version": 3
   },
   "file_extension": ".py",
   "mimetype": "text/x-python",
   "name": "python",
   "nbconvert_exporter": "python",
   "pygments_lexer": "ipython3",
   "version": "3.10.8"
  }
 },
 "nbformat": 4,
 "nbformat_minor": 5
}
